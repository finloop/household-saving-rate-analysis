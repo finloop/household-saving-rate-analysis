{
 "cells": [
  {
   "cell_type": "code",
   "execution_count": 28,
   "metadata": {},
   "outputs": [],
   "source": [
    "import numpy as np\n",
    "import pandas as pd\n",
    "import matplotlib.pyplot as plt\n",
    "import seaborn as sns\n",
    "import networkx as nx\n",
    "import statsmodels.api as sm\n",
    "\n",
    "from sklearn.feature_selection import SelectKBest, f_regression, mutual_info_regression"
   ]
  },
  {
   "cell_type": "code",
   "execution_count": 2,
   "metadata": {},
   "outputs": [],
   "source": [
    "# https://www.ue.katowice.pl/fileadmin/_migrated/content_uploads/7_B.Fraczek_Analiza_Czynnikow....pdf\n",
    "df = pd.read_excel(\"datasets/cleaned.xlsx\", sheet_name = [\"Polska\"])[\"Polska\"]\n",
    "df = df.fillna(df.mean())"
   ]
  },
  {
   "cell_type": "code",
   "execution_count": 3,
   "metadata": {},
   "outputs": [],
   "source": [
    "df.set_index(\"Rok\", inplace=True)"
   ]
  },
  {
   "cell_type": "code",
   "execution_count": 6,
   "metadata": {},
   "outputs": [],
   "source": [
    "# Kolumny z odpowiednią wartością wariancji \n",
    "cols = df.columns[df.std() / df.mean() > 0.2].values\n",
    "cols: list = cols.tolist()\n",
    "cols.remove(\"Procent dochodu rozporządzalnego przeznaczany na oszczędności\")"
   ]
  },
  {
   "cell_type": "code",
   "execution_count": 7,
   "metadata": {},
   "outputs": [],
   "source": [
    "X = df.loc[:, cols]\n",
    "y = df.loc[:, \"Procent dochodu rozporządzalnego przeznaczany na oszczędności\"]"
   ]
  },
  {
   "cell_type": "code",
   "execution_count": 35,
   "metadata": {},
   "outputs": [],
   "source": [
    "model = SelectKBest(score_func=f_regression, k=4)\n",
    "results = model.fit(X, y)"
   ]
  },
  {
   "cell_type": "code",
   "execution_count": 36,
   "metadata": {},
   "outputs": [
    {
     "name": "stdout",
     "output_type": "stream",
     "text": [
      "[3.07283825e+01 1.61678846e-01 6.81532880e-02 5.49814145e-02\n",
      " 2.45930525e+01 2.53187531e+01 6.95914806e+01 2.09778272e+01\n",
      " 8.91467969e+00 3.66026866e+01]\n"
     ]
    }
   ],
   "source": [
    "print (results.scores_)\n",
    "results_df=pd.DataFrame(results.scores_)"
   ]
  },
  {
   "cell_type": "code",
   "execution_count": 39,
   "metadata": {},
   "outputs": [
    {
     "data": {
      "text/plain": [
       "'Procent dochodu rozporzązdalnego przeznaczanego na spłatę długów'"
      ]
     },
     "execution_count": 39,
     "metadata": {},
     "output_type": "execute_result"
    }
   ],
   "source": [
    "names=pd.DataFrame(X.columns)\n",
    "scored=pd.concat([names,results_df], axis=1)\n",
    "scored.columns = [\"Feature\", \"Score\"]\n",
    "scored.sort_values(by=['Score']).head(13).Feature[0]"
   ]
  },
  {
   "cell_type": "code",
   "execution_count": null,
   "metadata": {},
   "outputs": [],
   "source": []
  }
 ],
 "metadata": {
  "interpreter": {
   "hash": "e050afdf1e04124b978768d8f70ae772884ec013c13cb3f430957cf570226009"
  },
  "kernelspec": {
   "display_name": "Python 3.9.7 ('household-saving-rate-analysis')",
   "language": "python",
   "name": "python3"
  },
  "language_info": {
   "codemirror_mode": {
    "name": "ipython",
    "version": 3
   },
   "file_extension": ".py",
   "mimetype": "text/x-python",
   "name": "python",
   "nbconvert_exporter": "python",
   "pygments_lexer": "ipython3",
   "version": "3.9.7"
  },
  "orig_nbformat": 4
 },
 "nbformat": 4,
 "nbformat_minor": 2
}
