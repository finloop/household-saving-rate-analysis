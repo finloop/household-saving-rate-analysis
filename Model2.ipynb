{
 "cells": [
  {
   "cell_type": "code",
   "execution_count": 1,
   "metadata": {},
   "outputs": [],
   "source": [
    "import numpy as np\n",
    "import pandas as pd\n",
    "import matplotlib.pyplot as plt\n",
    "import seaborn as sns\n",
    "import networkx as nx\n",
    "import statsmodels.api as sm\n",
    "\n",
    "from sklearn.feature_selection import SelectKBest, f_regression, mutual_info_regression"
   ]
  },
  {
   "cell_type": "code",
   "execution_count": 2,
   "metadata": {},
   "outputs": [],
   "source": [
    "# https://www.ue.katowice.pl/fileadmin/_migrated/content_uploads/7_B.Fraczek_Analiza_Czynnikow....pdf\n",
    "df = pd.read_excel(\"datasets/cleaned.xlsx\", sheet_name = [\"Polska\"])[\"Polska\"]\n",
    "df = df.fillna(df.mean())"
   ]
  },
  {
   "cell_type": "code",
   "execution_count": 3,
   "metadata": {},
   "outputs": [],
   "source": [
    "df.set_index(\"Rok\", inplace=True)"
   ]
  },
  {
   "cell_type": "code",
   "execution_count": 4,
   "metadata": {},
   "outputs": [],
   "source": [
    "# Kolumny z odpowiednią wartością wariancji \n",
    "cols = df.columns[df.std() / df.mean() > 0.2].values\n",
    "cols: list = cols.tolist()\n",
    "cols.remove(\"Procent dochodu rozporządzalnego przeznaczany na oszczędności\")"
   ]
  },
  {
   "cell_type": "code",
   "execution_count": 5,
   "metadata": {},
   "outputs": [],
   "source": [
    "X = df.loc[:, cols]\n",
    "y = df.loc[:, \"Procent dochodu rozporządzalnego przeznaczany na oszczędności\"]"
   ]
  },
  {
   "cell_type": "code",
   "execution_count": 6,
   "metadata": {},
   "outputs": [],
   "source": [
    "model = SelectKBest(score_func=f_regression, k=4)\n",
    "results = model.fit(X, y)"
   ]
  },
  {
   "cell_type": "code",
   "execution_count": 7,
   "metadata": {},
   "outputs": [
    {
     "name": "stdout",
     "output_type": "stream",
     "text": [
      "[3.07283825e+01 1.61678846e-01 6.81532880e-02 5.49814145e-02\n",
      " 2.45930525e+01 2.53187531e+01 6.95914806e+01 2.09778272e+01\n",
      " 8.91467969e+00 3.66026866e+01]\n"
     ]
    }
   ],
   "source": [
    "print (results.scores_)\n",
    "results_df=pd.DataFrame(results.scores_)"
   ]
  },
  {
   "cell_type": "code",
   "execution_count": 9,
   "metadata": {},
   "outputs": [
    {
     "data": {
      "text/html": [
       "<div>\n",
       "<style scoped>\n",
       "    .dataframe tbody tr th:only-of-type {\n",
       "        vertical-align: middle;\n",
       "    }\n",
       "\n",
       "    .dataframe tbody tr th {\n",
       "        vertical-align: top;\n",
       "    }\n",
       "\n",
       "    .dataframe thead th {\n",
       "        text-align: right;\n",
       "    }\n",
       "</style>\n",
       "<table border=\"1\" class=\"dataframe\">\n",
       "  <thead>\n",
       "    <tr style=\"text-align: right;\">\n",
       "      <th></th>\n",
       "      <th>Feature</th>\n",
       "      <th>Score</th>\n",
       "    </tr>\n",
       "  </thead>\n",
       "  <tbody>\n",
       "    <tr>\n",
       "      <th>3</th>\n",
       "      <td>Rezerwy ubezpieczeń na życie (wyrażone w proce...</td>\n",
       "      <td>0.054981</td>\n",
       "    </tr>\n",
       "    <tr>\n",
       "      <th>2</th>\n",
       "      <td>Zmiana sumy przeznaczanej na konsumpcję przez ...</td>\n",
       "      <td>0.068153</td>\n",
       "    </tr>\n",
       "    <tr>\n",
       "      <th>1</th>\n",
       "      <td>Zmiana dochodu rozporządzalnego względem roku ...</td>\n",
       "      <td>0.161679</td>\n",
       "    </tr>\n",
       "    <tr>\n",
       "      <th>8</th>\n",
       "      <td>Średnia stopa bezrobocia</td>\n",
       "      <td>8.914680</td>\n",
       "    </tr>\n",
       "    <tr>\n",
       "      <th>7</th>\n",
       "      <td>Cena 1 m2 powierzchni użytkowej budynku mieszk...</td>\n",
       "      <td>20.977827</td>\n",
       "    </tr>\n",
       "    <tr>\n",
       "      <th>4</th>\n",
       "      <td>Suma aktyw gospodarstw domowych w dolarach per...</td>\n",
       "      <td>24.593052</td>\n",
       "    </tr>\n",
       "    <tr>\n",
       "      <th>5</th>\n",
       "      <td>Przeciętne roczne wynagrodzenie (dane z ZUSu)</td>\n",
       "      <td>25.318753</td>\n",
       "    </tr>\n",
       "    <tr>\n",
       "      <th>0</th>\n",
       "      <td>Procent dochodu rozporzązdalnego przeznaczaneg...</td>\n",
       "      <td>30.728382</td>\n",
       "    </tr>\n",
       "    <tr>\n",
       "      <th>9</th>\n",
       "      <td>Cena: olej jadalny rafinowany rzepakowy konfek...</td>\n",
       "      <td>36.602687</td>\n",
       "    </tr>\n",
       "    <tr>\n",
       "      <th>6</th>\n",
       "      <td>Średnie stopy procentowe w danym roku</td>\n",
       "      <td>69.591481</td>\n",
       "    </tr>\n",
       "  </tbody>\n",
       "</table>\n",
       "</div>"
      ],
      "text/plain": [
       "                                             Feature      Score\n",
       "3  Rezerwy ubezpieczeń na życie (wyrażone w proce...   0.054981\n",
       "2  Zmiana sumy przeznaczanej na konsumpcję przez ...   0.068153\n",
       "1  Zmiana dochodu rozporządzalnego względem roku ...   0.161679\n",
       "8                           Średnia stopa bezrobocia   8.914680\n",
       "7  Cena 1 m2 powierzchni użytkowej budynku mieszk...  20.977827\n",
       "4  Suma aktyw gospodarstw domowych w dolarach per...  24.593052\n",
       "5      Przeciętne roczne wynagrodzenie (dane z ZUSu)  25.318753\n",
       "0  Procent dochodu rozporzązdalnego przeznaczaneg...  30.728382\n",
       "9  Cena: olej jadalny rafinowany rzepakowy konfek...  36.602687\n",
       "6              Średnie stopy procentowe w danym roku  69.591481"
      ]
     },
     "execution_count": 9,
     "metadata": {},
     "output_type": "execute_result"
    }
   ],
   "source": [
    "names=pd.DataFrame(X.columns)\n",
    "scored=pd.concat([names,results_df], axis=1)\n",
    "scored.columns = [\"Feature\", \"Score\"]\n",
    "scored.sort_values(by=['Score']).head(13)"
   ]
  },
  {
   "cell_type": "code",
   "execution_count": null,
   "metadata": {},
   "outputs": [],
   "source": []
  }
 ],
 "metadata": {
  "interpreter": {
   "hash": "e050afdf1e04124b978768d8f70ae772884ec013c13cb3f430957cf570226009"
  },
  "kernelspec": {
   "display_name": "Python 3.9.7 ('household-saving-rate-analysis')",
   "language": "python",
   "name": "python3"
  },
  "language_info": {
   "codemirror_mode": {
    "name": "ipython",
    "version": 3
   },
   "file_extension": ".py",
   "mimetype": "text/x-python",
   "name": "python",
   "nbconvert_exporter": "python",
   "pygments_lexer": "ipython3",
   "version": "3.9.7"
  },
  "orig_nbformat": 4
 },
 "nbformat": 4,
 "nbformat_minor": 2
}
