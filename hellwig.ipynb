{
 "cells": [
  {
   "cell_type": "code",
   "execution_count": 34,
   "metadata": {},
   "outputs": [],
   "source": [
    "import numpy as np\n",
    "import pandas as pd\n",
    "import matplotlib.pyplot as plt\n",
    "import seaborn as sns\n",
    "import networkx as nx\n",
    "import statsmodels.api as sm\n",
    "import itertools\n",
    "import pandas as pd\n",
    "import collections\n",
    "from tqdm import tqdm\n",
    "from joblib import Parallel, delayed\n",
    "from operator import itemgetter\n",
    "from itertools import chain\n",
    "\n",
    "from sklearn.feature_selection import SelectKBest, f_regression, mutual_info_regression"
   ]
  },
  {
   "cell_type": "code",
   "execution_count": 2,
   "metadata": {},
   "outputs": [],
   "source": [
    "# https://www.ue.katowice.pl/fileadmin/_migrated/content_uploads/7_B.Fraczek_Analiza_Czynnikow....pdf\n",
    "df = pd.read_excel(\"datasets/cleaned.xlsx\", sheet_name = [\"Polska\"])[\"Polska\"]\n",
    "df = df.fillna(df.mean())"
   ]
  },
  {
   "cell_type": "code",
   "execution_count": 3,
   "metadata": {},
   "outputs": [],
   "source": [
    "df.set_index(\"Rok\", inplace=True)"
   ]
  },
  {
   "cell_type": "code",
   "execution_count": 67,
   "metadata": {},
   "outputs": [],
   "source": [
    "# Kolumny z odpowiednią wartością wariancji \n",
    "cols = df.columns[df.std() / df.mean() > 0.2].values\n",
    "cols: list = cols.tolist()\n",
    "y_col = \"Procent dochodu rozporządzalnego przeznaczany na oszczędności\" \n",
    "cols.remove(\"Procent dochodu rozporządzalnego przeznaczany na oszczędności\")\n",
    "X_cols = cols"
   ]
  },
  {
   "cell_type": "code",
   "execution_count": 68,
   "metadata": {},
   "outputs": [],
   "source": [
    "R = df.corr().loc[X_cols, X_cols] # Macierz korelacji zmiennych\n",
    "R_0 = df.corr().loc[X_cols, y_col] # Macierz koralacji zmiennyh i zmiennej objaśniającej"
   ]
  },
  {
   "cell_type": "code",
   "execution_count": 94,
   "metadata": {},
   "outputs": [],
   "source": [
    "H = []\n",
    "for k, combination in enumerate(list(chain.from_iterable([list(itertools.combinations(X_cols, n)) for n in range(1, len(X_cols) + 1)]))):\n",
    "    h = []\n",
    "    for var in combination:\n",
    "        r = R_0[var]\n",
    "        denominator = np.sum(np.abs(R.loc[list(combination), var]))\n",
    "        h.append(r**2/denominator)\n",
    "    H.append((combination, sum(h)))"
   ]
  },
  {
   "cell_type": "code",
   "execution_count": 95,
   "metadata": {},
   "outputs": [],
   "source": [
    "best = max(H, key=itemgetter(1))"
   ]
  },
  {
   "cell_type": "code",
   "execution_count": 96,
   "metadata": {},
   "outputs": [
    {
     "data": {
      "text/plain": [
       "(1023, 2)"
      ]
     },
     "execution_count": 96,
     "metadata": {},
     "output_type": "execute_result"
    }
   ],
   "source": [
    "len(H), len(best[0])"
   ]
  },
  {
   "cell_type": "code",
   "execution_count": 97,
   "metadata": {},
   "outputs": [
    {
     "data": {
      "text/plain": [
       "(('Średnie stopy procentowe w danym roku',\n",
       "  'Cena: olej jadalny rafinowany rzepakowy konfekcjonowany - za 1l'),\n",
       " 0.8643742743209077)"
      ]
     },
     "execution_count": 97,
     "metadata": {},
     "output_type": "execute_result"
    }
   ],
   "source": [
    "best"
   ]
  },
  {
   "cell_type": "code",
   "execution_count": null,
   "metadata": {},
   "outputs": [],
   "source": []
  }
 ],
 "metadata": {
  "interpreter": {
   "hash": "e050afdf1e04124b978768d8f70ae772884ec013c13cb3f430957cf570226009"
  },
  "kernelspec": {
   "display_name": "Python 3.9.7 ('household-saving-rate-analysis')",
   "language": "python",
   "name": "python3"
  },
  "language_info": {
   "codemirror_mode": {
    "name": "ipython",
    "version": 3
   },
   "file_extension": ".py",
   "mimetype": "text/x-python",
   "name": "python",
   "nbconvert_exporter": "python",
   "pygments_lexer": "ipython3",
   "version": "3.9.7"
  },
  "orig_nbformat": 4
 },
 "nbformat": 4,
 "nbformat_minor": 2
}
